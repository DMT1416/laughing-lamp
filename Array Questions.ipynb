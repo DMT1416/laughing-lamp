{
 "cells": [
  {
   "cell_type": "code",
   "execution_count": 1,
   "id": "6f246eda-e297-49ad-87a2-88c519204f95",
   "metadata": {},
   "outputs": [],
   "source": [
    "# Full Name: Tabassum Sayyad\n",
    "# Roll Number: BSC24DS210\n",
    "# Class: BSc Ds \n",
    "# Div: B"
   ]
  },
  {
   "cell_type": "code",
   "execution_count": null,
   "id": "ec15215c-29ca-445c-a55c-da09fab37f06",
   "metadata": {},
   "outputs": [],
   "source": [
    "def second_largest(arr):\n",
    "    if len(arr) < 2:\n",
    "        return None  # Not enough elements\n",
    "\n",
    "    for num in arr:\n",
    "        if num > largest:\n",
    "            second = largest\n",
    "            largest = num\n",
    "        elif num > second and num != largest:\n",
    "            second = num\n",
    "\n",
    "    return second if second != float('-inf') else None\n",
    "\n",
    "# Example\n",
    "print(second_largest([10, 5, 20, 8, 20]))  # Output: 10\n"
   ]
  },
  {
   "cell_type": "code",
   "execution_count": 2,
   "id": "c83d8755-68bc-425d-adc1-eb54b14af1d5",
   "metadata": {},
   "outputs": [
    {
     "name": "stdout",
     "output_type": "stream",
     "text": [
      "The 2nd largest number is: 76\n"
     ]
    }
   ],
   "source": [
    "# 1. Find Second Largest Element\n",
    "# Problem: Given an array of integers, \n",
    "# write a Python function to find the second largest element.\n",
    "\n",
    "nums = [5,10,48,76,75,15,10,33,80] #defining a list of numbers\n",
    "max1 = 0 #initializing max1 = 0\n",
    "\n",
    "#taking every number in the list one by one\n",
    "for i in nums:\n",
    "    num = i #puting every number as num\n",
    "    if num>max1: \n",
    "        max2 = max1 #if num is greater than max1 then max2 = max1\n",
    "        max1 = num #max1 becomes num\n",
    "    elif num>max2 and num!=max1: #if we add\n",
    "        max2=num\n",
    "print(f\"The 2nd largest number is: {max2}\")\n",
    "#output:\n",
    "#The 2nd largest number is: 76"
   ]
  },
  {
   "cell_type": "code",
   "execution_count": 6,
   "id": "375e065c-a8d0-4afb-bfa2-06273d700b85",
   "metadata": {},
   "outputs": [
    {
     "name": "stdout",
     "output_type": "stream",
     "text": [
      "[22, 45, 54, 55, 56, 65, 74]\n",
      "The length of the updated list is 7\n"
     ]
    }
   ],
   "source": [
    "# 2. Remove Duplicates\n",
    "# Problem: Write a Python function to remove duplicates from \n",
    "# a sorted array and return the new length.\n",
    "\n",
    "def remove_duplicates(r):\n",
    "    r.sort()\n",
    "    a = []\n",
    "    for i in r:\n",
    "        if i not in a:\n",
    "            a.append(i)\n",
    "    print(a)\n",
    "    return f\"The length of the updated list is {len(a)}\"\n",
    "\n",
    "print(remove_duplicates([54,65,55,65,22,22,22,45,74,56]))\n",
    "\n",
    "#output:\n",
    "# [22, 45, 54, 55, 56, 65, 74]\n",
    "# The length of the updated list is 7"
   ]
  },
  {
   "cell_type": "code",
   "execution_count": null,
   "id": "e225af44-9105-44ac-b5b8-943f5c0cd16d",
   "metadata": {},
   "outputs": [],
   "source": [
    "# 3. Merge Two Sorted Arrays\n",
    "# Problem: Given two sorted arrays, merge them into\n",
    "# one sorted array without using the built-in sort().\n",
    "\n",
    "def merge_sorted_arrays(a, b):\n",
    "    result = []\n",
    "    i = j = 0\n",
    "\n",
    "    # Compare and merge\n",
    "    while i < len(a) and j < len(b):\n",
    "        if a[i] < b[j]:\n",
    "            result.append(a[i])\n",
    "            i += 1\n",
    "        else:\n",
    "            result.append(b[j])\n",
    "            j += 1\n",
    "\n",
    "    # Add remaining elements\n",
    "    result.extend(a[i:])\n",
    "    result.extend(b[j:])\n",
    "    return result\n",
    "\n",
    "# Example\n",
    "arr1 = [1, 3, 5]\n",
    "arr2 = [2, 4, 6]\n",
    "print(merge_sorted_arrays(arr1, arr2))  # Output: [1, 2, 3, 4, 5, 6]\n"
   ]
  }
 ],
 "metadata": {
  "kernelspec": {
   "display_name": "Python 3 (ipykernel)",
   "language": "python",
   "name": "python3"
  },
  "language_info": {
   "codemirror_mode": {
    "name": "ipython",
    "version": 3
   },
   "file_extension": ".py",
   "mimetype": "text/x-python",
   "name": "python",
   "nbconvert_exporter": "python",
   "pygments_lexer": "ipython3",
   "version": "3.13.5"
  }
 },
 "nbformat": 4,
 "nbformat_minor": 5
}
